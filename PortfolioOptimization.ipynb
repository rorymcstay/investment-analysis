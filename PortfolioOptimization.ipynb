{
 "cells": [
  {
   "cell_type": "code",
   "execution_count": 1,
   "metadata": {},
   "outputs": [],
   "source": [
    "from iexfinance.stocks import Stock\n",
    "import pandas as pd\n",
    "import numpy as np\n",
    "import requests_cache\n",
    "import datetime\n",
    "from lib.utils import process_basket_data, normalise_basket"
   ]
  },
  {
   "cell_type": "code",
   "execution_count": 2,
   "metadata": {},
   "outputs": [],
   "source": [
    "expiry = datetime.timedelta(days=100)\n",
    "session = requests_cache.CachedSession(cache_name='cache',\n",
    "                                       backend='sqlite',\n",
    "                                       expire_after=expiry)"
   ]
  },
  {
   "cell_type": "code",
   "execution_count": 1,
   "metadata": {},
   "outputs": [
    {
     "ename": "NameError",
     "evalue": "name 'Stock' is not defined",
     "output_type": "error",
     "traceback": [
      "\u001b[0;31m---------------------------------------------------------------------------\u001b[0m",
      "\u001b[0;31mNameError\u001b[0m                                 Traceback (most recent call last)",
      "Input \u001b[0;32mIn [1]\u001b[0m, in \u001b[0;36m<cell line: 1>\u001b[0;34m()\u001b[0m\n\u001b[0;32m----> 1\u001b[0m stocks \u001b[38;5;241m=\u001b[39m \u001b[43mStock\u001b[49m([\u001b[38;5;124m'\u001b[39m\u001b[38;5;124mVUKE-LN\u001b[39m\u001b[38;5;124m'\u001b[39m, \u001b[38;5;124m'\u001b[39m\u001b[38;5;124mVMID-LN\u001b[39m\u001b[38;5;124m'\u001b[39m], session\u001b[38;5;241m=\u001b[39msession)\n\u001b[1;32m      2\u001b[0m basket \u001b[38;5;241m=\u001b[39m stocks\u001b[38;5;241m.\u001b[39mget_historical_prices(\u001b[38;5;28mrange\u001b[39m\u001b[38;5;241m=\u001b[39m\u001b[38;5;124m'\u001b[39m\u001b[38;5;124m5y\u001b[39m\u001b[38;5;124m'\u001b[39m)\n\u001b[1;32m      3\u001b[0m basket \u001b[38;5;241m=\u001b[39m process_basket_data(basket)\n",
      "\u001b[0;31mNameError\u001b[0m: name 'Stock' is not defined"
     ]
    }
   ],
   "source": [
    "stocks = Stock(['VUKE-LN', 'VMID-LN'], session=session)\n",
    "basket = stocks.get_historical_prices(range='5y')\n",
    "basket = process_basket_data(basket)\n",
    "df = normalise_basket(basket, 'returns').dropna()[1:]"
   ]
  },
  {
   "cell_type": "code",
   "execution_count": 4,
   "metadata": {},
   "outputs": [
    {
     "name": "stdout",
     "output_type": "stream",
     "text": [
      "[1.00434389 1.00307692 0.98877828]\n"
     ]
    },
    {
     "data": {
      "text/plain": [
       "(0, 0)"
      ]
     },
     "execution_count": 4,
     "metadata": {},
     "output_type": "execute_result"
    }
   ],
   "source": [
    "#given last 5 days daily returns, what proportions should I hold next week\n",
    "def get_optimal_holding(returns_a: pd.Series, returns_b: pd.Series):\n",
    "    returns_a * returns_b\n",
    "    print(np.cumprod(1 + returns_a.astype('float').values))\n",
    "    a_prop = 0\n",
    "    b_prop = 0\n",
    "    return (a_prop,  b_prop)\n",
    "\n",
    "start=pd.to_datetime('21/03/2016')\n",
    "end=pd.to_datetime('26/03/2016')\n",
    "mask = (df.index > start) & (df.index <= end)\n",
    "df.loc[mask]\n",
    "get_optimal_holding(df.loc[mask]['VUKE-LN'],df.loc[mask]['VMID-LN'])"
   ]
  },
  {
   "cell_type": "code",
   "execution_count": null,
   "metadata": {},
   "outputs": [],
   "source": []
  }
 ],
 "metadata": {
  "kernelspec": {
   "display_name": "Python 3 (ipykernel)",
   "language": "python",
   "name": "python3"
  },
  "language_info": {
   "codemirror_mode": {
    "name": "ipython",
    "version": 3
   },
   "file_extension": ".py",
   "mimetype": "text/x-python",
   "name": "python",
   "nbconvert_exporter": "python",
   "pygments_lexer": "ipython3",
   "version": "3.8.10"
  }
 },
 "nbformat": 4,
 "nbformat_minor": 2
}
