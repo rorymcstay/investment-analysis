{
 "cells": [
  {
   "cell_type": "code",
   "execution_count": null,
   "metadata": {},
   "outputs": [],
   "source": [
    "from iexfinance.stocks import Stock\n",
    "import pandas as pd\n",
    "import numpy as np\n",
    "import requests_cache\n",
    "import datetime\n",
    "from lib.utils import process_basket_data, normalise_basket"
   ]
  },
  {
   "cell_type": "code",
   "execution_count": null,
   "metadata": {},
   "outputs": [],
   "source": [
    "expiry = datetime.timedelta(days=100)\n",
    "session = requests_cache.CachedSession(cache_name='cache',\n",
    "                                       backend='sqlite',\n",
    "                                       expire_after=expiry)"
   ]
  },
  {
   "cell_type": "code",
   "execution_count": null,
   "metadata": {},
   "outputs": [],
   "source": [
    "stocks = Stock(['VUKE-LN', 'VMID-LN'], session=session)\n",
    "basket = stocks.get_historical_prices(range='5y')\n",
    "basket = process_basket_data(basket)\n",
    "df = normalise_basket(basket, 'returns').dropna()[1:]"
   ]
  },
  {
   "cell_type": "code",
   "execution_count": null,
   "metadata": {},
   "outputs": [],
   "source": [
    "#given last 5 days daily returns, what proportions should I hold next week\n",
    "def get_optimal_holding(returns_a: pd.Series, returns_b: pd.Series):\n",
    "    returns_a * returns_b\n",
    "    print(np.cumprod(1 + returns_a.astype('float').values))\n",
    "    a_prop = 0\n",
    "    b_prop = 0\n",
    "    return (a_prop,  b_prop)\n",
    "\n",
    "start=pd.to_datetime('21/03/2016')\n",
    "end=pd.to_datetime('26/03/2016')\n",
    "mask = (df.index > start) & (df.index <= end)\n",
    "df.loc[mask]\n",
    "get_optimal_holding(df.loc[mask]['VUKE-LN'],df.loc[mask]['VMID-LN'])"
   ]
  },
  {
   "cell_type": "code",
   "execution_count": null,
   "metadata": {},
   "outputs": [],
   "source": []
  }
 ],
 "metadata": {
  "kernelspec": {
   "display_name": "Python 3 (ipykernel)",
   "language": "python",
   "name": "python3"
  },
  "language_info": {
   "codemirror_mode": {
    "name": "ipython",
    "version": 3
   },
   "file_extension": ".py",
   "mimetype": "text/x-python",
   "name": "python",
   "nbconvert_exporter": "python",
   "pygments_lexer": "ipython3"
  }
 },
 "nbformat": 4,
 "nbformat_minor": 2
}
