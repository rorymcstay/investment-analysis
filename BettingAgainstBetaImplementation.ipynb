{
 "cells": [
  {
   "cell_type": "code",
   "execution_count": null,
   "metadata": {},
   "outputs": [],
   "source": [
    "import numpy as np\n",
    "import pandas as pd\n",
    "from matplotlib import pyplot as plt \n",
    "import yfinance as yf"
   ]
  },
  {
   "cell_type": "code",
   "execution_count": null,
   "metadata": {},
   "outputs": [],
   "source": [
    "stock_list = {\n",
    "    'VUKE.L': 'FTSE 100',\n",
    "    'VMID.L': 'FTSE 250',\n",
    "    'VUSA.L': 'S&P 500',\n",
    "    'VERX.L': 'DEVELOPED EUROPE EX UK',\n",
    "    'VEUR.L': 'DEVELOPED EUROPE',\n",
    "    'VGER.L': 'GERMANY ALL CAP',\n",
    "    #'V3AM.L': 'ESG GLOBAL ALL CAP',\n",
    "    'VWRL.L': 'FTSE ALL WORLD',\n",
    "    'VHYL.L': 'WORLD HIGH DIVIDEND YIELD',\n",
    "    'VEVE.L': 'DEVELOPED WORLD',\n",
    "    'VJPN.L': 'FTSE JAPAN',\n",
    "    #'VAPX.L': 'ASIA EX JAPAN',\n",
    "    'VNRT.L': 'FTSE NORTH AMERICA',\n",
    "    'VFEM.L': 'EMERGING MARKETS'\n",
    "}\n",
    "#stock_list = ['VUKE.L', 'VMID.L', 'VUSA.L', 'VERX.L', 'VEUR.L', 'VGER.L', 'V3AM.L', 'VWRL.L', 'VEVE.L', 'VJPN.L','VAPX.L', 'VNRT.L', 'VFEM.L']\n",
    "fixed_income = ['VECP.L', 'VETY.L', 'VAGP.L', 'VGOV.L', 'VUCP.L', 'VUTY.L', 'VEMT.L']\n",
    "\n",
    "stocks = yf.Tickers(list(stock_list.keys()))\n",
    "stock_prices = stocks.history('5y')['Close']\n",
    "#stock_prices.dropna(inplace=True)\n",
    "#vuke = vuke.history('5y')"
   ]
  },
  {
   "cell_type": "code",
   "execution_count": null,
   "metadata": {},
   "outputs": [],
   "source": [
    "stock_prices"
   ]
  },
  {
   "cell_type": "code",
   "execution_count": null,
   "metadata": {},
   "outputs": [],
   "source": [
    "n_days = 4000\n",
    "n_stocks = 2000"
   ]
  },
  {
   "cell_type": "code",
   "execution_count": null,
   "metadata": {},
   "outputs": [],
   "source": [
    "# Simulate daily returns for all stocks over the course of our observation period.\n",
    "\n",
    "\n",
    "mu = 0.001\n",
    "sigma = 0.1\n",
    "\n",
    "np.random.seed(0)\n",
    "returns = returns = np.random.normal(mu, sigma, (n_stocks, n_days))\n",
    "print(f'returns.shape={returns.shape}')\n",
    "\n",
    "market_caps = np.random.uniform(10000,1000000, n_stocks)\n"
   ]
  },
  {
   "cell_type": "code",
   "execution_count": null,
   "metadata": {},
   "outputs": [],
   "source": [
    "# Calculate the market portfolio return series.\n",
    "\n",
    "cumulative_return = np.array([np.cumsum(1+returns[i]) for i in range(n_stocks)])\n",
    "\n",
    "# market portfolio returns\n",
    "market_cap_series = np.array([cumulative_return[i]*market_caps[i] for i in range(n_stocks)])\n",
    "\n",
    "print(f'market_cap_series.shape={market_cap_series.shape}')\n",
    "\n",
    "weights = np.array([market_cap_series[i]/sum(market_cap_series[i]) for i in range(n_stocks)])\n",
    "\n",
    "print(f'weights.shape={weights.shape}')\n",
    "\n",
    "weights_returns = weights*returns\n",
    "\n",
    "print(f'weights_returns.shape={weights_returns.shape}')\n",
    "\n",
    "market_return = np.array([sum(weights_returns[j][i] for j in range(n_stocks)) for i in range(n_days)])\n",
    "\n",
    "print(f'market_return.shape={market_return.shape}')\n"
   ]
  },
  {
   "cell_type": "code",
   "execution_count": null,
   "metadata": {},
   "outputs": [],
   "source": [
    "# conduct CAPM analysis for each stock and record the beta.\n",
    "\n",
    "from sklearn.linear_model import LinearRegression\n",
    "\n",
    "betas = []\n",
    "\n",
    "for i in range(n_stocks):\n",
    "    regressinoModel = LinearRegression(fit_intercept=True, normalize=True, copy_X=True, n_jobs=3)\n",
    "    y = returns[:][i]\n",
    "    x = market_return.reshape(-1,1)\n",
    "    regressinoModel.fit(x,y)\n",
    "    # intercept, beta, index \n",
    "    betas.append((regressinoModel.intercept_,regressinoModel.coef_[0], i))\n",
    "\n"
   ]
  },
  {
   "cell_type": "code",
   "execution_count": null,
   "metadata": {},
   "outputs": [],
   "source": [
    "# Sort the betas\n",
    "betas.sort(key=lambda it: it[1])\n",
    "\n",
    "\n",
    "# split into low and high sets of beta\n",
    "lowBeta = betas[0:int(n_stocks/2)-1]\n",
    "highBeta = betas[int(n_stocks/2):n_stocks-1]\n",
    "\n",
    "# subset the returns matrix into high and low beta stocks.\n",
    "lowBetaReturns = np.array([returns[j[2]] for j in lowBeta])\n",
    "highBetaReturns = np.array([returns[j[2]] for j in highBeta])\n",
    "print(lowBetaReturns.shape)\n",
    "\n",
    "# equally weight each asset and compute the portfolio returns\n",
    "lowReturns = np.array([sum(1/1000*lowBetaReturns[...,i]) for i in range(n_days)])\n",
    "highReturns = np.array([sum(1/1000*highBetaReturns[...,i]) for i in range(n_days)])\n"
   ]
  },
  {
   "cell_type": "code",
   "execution_count": null,
   "metadata": {},
   "outputs": [],
   "source": [
    "# Calculate the H and L portfolio betas\n",
    "\n",
    "lowRetModel = LinearRegression(fit_intercept=True, normalize=True, copy_X=True, n_jobs=3)\n",
    "lowRetModel.fit(y=lowReturns, X=market_return.reshape(-1,1))\n",
    "\n",
    "highRetModel = LinearRegression(fit_intercept=True, normalize=True, copy_X=True, n_jobs=3)\n",
    "highRetModel.fit(y=highReturns, X=market_return.reshape(-1,1))\n",
    "\n",
    "\n",
    "# show that they are equal to the average beta in the simple case.\n",
    "print(f'=== Simple average ===')\n",
    "print(f'Average low beta {sum([stat[1] for stat in lowBeta])/1000}')\n",
    "print(f'Average high beta {sum([stat[1] for stat in highBeta])/1000}')\n",
    "print(f'=== CAPM ===')\n",
    "print(f'LowBeta: {lowRetModel.coef_}, Alpha: {lowRetModel.intercept_}')\n",
    "print(f'HighBeta: {highRetModel.coef_}, Alpha: {highRetModel.intercept_}')\n",
    "\n",
    "lowBetaVal = lowRetModel.coef_[0]\n",
    "highBetaVal = highRetModel.coef_[0]\n",
    "\n",
    "scalarLow = 1/lowBetaVal\n",
    "scalarHigh = 1/highBetaVal\n",
    "print('')\n",
    "\n",
    "print(f'For every dollar invested in lowBeta, we will leverage by {scalarLow}')\n",
    "print(f'For every dollar in highBeta, we will delveraged by, {scalarHigh}')\n",
    "\n",
    "bab_portfolio = (scalarLow * lowReturns) - (scalarHigh * highReturns)\n"
   ]
  },
  {
   "cell_type": "code",
   "execution_count": null,
   "metadata": {},
   "outputs": [],
   "source": [
    "plt.plot(np.cumprod(1+bab_portfolio), label='BAB Portfolio')\n",
    "plt.plot(np.cumprod(1+market_return), label='Market Portfolio')\n",
    "plt.legend()"
   ]
  },
  {
   "cell_type": "code",
   "execution_count": null,
   "metadata": {},
   "outputs": [],
   "source": [
    "regressionModel = LinearRegression(fit_intercept=True, normalize=True, copy_X=True, n_jobs=3)\n",
    "regressionModel.fit(y=bab_portfolio, X=market_return.reshape(-1,1))\n",
    "\n",
    "print(f'Beta coefficient: {regressionModel.coef_[0]} ~= 0')\n",
    "print(f'Intercept (Alpha): {regressionModel.intercept_}')"
   ]
  },
  {
   "cell_type": "code",
   "execution_count": null,
   "metadata": {},
   "outputs": [],
   "source": []
  }
 ],
 "metadata": {
  "kernelspec": {
   "display_name": "Python 3 (ipykernel)",
   "language": "python",
   "name": "python3"
  },
  "language_info": {
   "codemirror_mode": {
    "name": "ipython",
    "version": 3
   },
   "file_extension": ".py",
   "mimetype": "text/x-python",
   "name": "python",
   "nbconvert_exporter": "python",
   "pygments_lexer": "ipython3"
  }
 },
 "nbformat": 4,
 "nbformat_minor": 2
}
