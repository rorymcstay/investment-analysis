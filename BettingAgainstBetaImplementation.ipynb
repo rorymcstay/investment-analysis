{
 "cells": [
  {
   "cell_type": "code",
   "execution_count": 2,
   "metadata": {},
   "outputs": [],
   "source": [
    "import numpy as np\n",
    "import pandas as pd\n",
    "from matplotlib import pyplot as plt \n",
    "import yfinance as yf"
   ]
  },
  {
   "cell_type": "code",
   "execution_count": 15,
   "metadata": {},
   "outputs": [
    {
     "name": "stdout",
     "output_type": "stream",
     "text": [
      "[*********************100%***********************]  12 of 12 completed\n"
     ]
    }
   ],
   "source": [
    "stock_list = {\n",
    "    'VUKE.L': 'FTSE 100',\n",
    "    'VMID.L': 'FTSE 250',\n",
    "    'VUSA.L': 'S&P 500',\n",
    "    'VERX.L': 'DEVELOPED EUROPE EX UK',\n",
    "    'VEUR.L': 'DEVELOPED EUROPE',\n",
    "    'VGER.L': 'GERMANY ALL CAP',\n",
    "    #'V3AM.L': 'ESG GLOBAL ALL CAP',\n",
    "    'VWRL.L': 'FTSE ALL WORLD',\n",
    "    'VHYL.L': 'WORLD HIGH DIVIDEND YIELD',\n",
    "    'VEVE.L': 'DEVELOPED WORLD',\n",
    "    'VJPN.L': 'FTSE JAPAN',\n",
    "    #'VAPX.L': 'ASIA EX JAPAN',\n",
    "    'VNRT.L': 'FTSE NORTH AMERICA',\n",
    "    'VFEM.L': 'EMERGING MARKETS'\n",
    "}\n",
    "#stock_list = ['VUKE.L', 'VMID.L', 'VUSA.L', 'VERX.L', 'VEUR.L', 'VGER.L', 'V3AM.L', 'VWRL.L', 'VEVE.L', 'VJPN.L','VAPX.L', 'VNRT.L', 'VFEM.L']\n",
    "fixed_income = ['VECP.L', 'VETY.L', 'VAGP.L', 'VGOV.L', 'VUCP.L', 'VUTY.L', 'VEMT.L']\n",
    "\n",
    "stocks = yf.Tickers(list(stock_list.keys()))\n",
    "stock_prices = stocks.history('5y')['Close']\n",
    "#stock_prices.dropna(inplace=True)\n",
    "#vuke = vuke.history('5y')"
   ]
  },
  {
   "cell_type": "code",
   "execution_count": 14,
   "metadata": {},
   "outputs": [
    {
     "data": {
      "text/html": [
       "<div>\n",
       "<style scoped>\n",
       "    .dataframe tbody tr th:only-of-type {\n",
       "        vertical-align: middle;\n",
       "    }\n",
       "\n",
       "    .dataframe tbody tr th {\n",
       "        vertical-align: top;\n",
       "    }\n",
       "\n",
       "    .dataframe thead th {\n",
       "        text-align: right;\n",
       "    }\n",
       "</style>\n",
       "<table border=\"1\" class=\"dataframe\">\n",
       "  <thead>\n",
       "    <tr style=\"text-align: right;\">\n",
       "      <th></th>\n",
       "      <th>VERX.L</th>\n",
       "      <th>VEUR.L</th>\n",
       "      <th>VEVE.L</th>\n",
       "      <th>VFEM.L</th>\n",
       "      <th>VGER.L</th>\n",
       "      <th>VHYL.L</th>\n",
       "      <th>VJPN.L</th>\n",
       "      <th>VMID.L</th>\n",
       "      <th>VNRT.L</th>\n",
       "      <th>VUKE.L</th>\n",
       "      <th>VUSA.L</th>\n",
       "      <th>VWRL.L</th>\n",
       "    </tr>\n",
       "    <tr>\n",
       "      <th>Date</th>\n",
       "      <th></th>\n",
       "      <th></th>\n",
       "      <th></th>\n",
       "      <th></th>\n",
       "      <th></th>\n",
       "      <th></th>\n",
       "      <th></th>\n",
       "      <th></th>\n",
       "      <th></th>\n",
       "      <th></th>\n",
       "      <th></th>\n",
       "      <th></th>\n",
       "    </tr>\n",
       "  </thead>\n",
       "  <tbody>\n",
       "    <tr>\n",
       "      <th>2016-05-31</th>\n",
       "      <td>19.924999</td>\n",
       "      <td>21.365000</td>\n",
       "      <td>NaN</td>\n",
       "      <td>NaN</td>\n",
       "      <td>NaN</td>\n",
       "      <td>NaN</td>\n",
       "      <td>17.070000</td>\n",
       "      <td>27.955000</td>\n",
       "      <td>NaN</td>\n",
       "      <td>28.027500</td>\n",
       "      <td>27.450001</td>\n",
       "      <td>46.044998</td>\n",
       "    </tr>\n",
       "    <tr>\n",
       "      <th>2016-06-01</th>\n",
       "      <td>20.102501</td>\n",
       "      <td>21.395000</td>\n",
       "      <td>NaN</td>\n",
       "      <td>NaN</td>\n",
       "      <td>NaN</td>\n",
       "      <td>NaN</td>\n",
       "      <td>17.170000</td>\n",
       "      <td>27.740000</td>\n",
       "      <td>NaN</td>\n",
       "      <td>27.850000</td>\n",
       "      <td>27.700001</td>\n",
       "      <td>46.384998</td>\n",
       "    </tr>\n",
       "    <tr>\n",
       "      <th>2016-06-02</th>\n",
       "      <td>20.077499</td>\n",
       "      <td>21.400000</td>\n",
       "      <td>NaN</td>\n",
       "      <td>NaN</td>\n",
       "      <td>NaN</td>\n",
       "      <td>NaN</td>\n",
       "      <td>16.990000</td>\n",
       "      <td>27.775000</td>\n",
       "      <td>NaN</td>\n",
       "      <td>27.840000</td>\n",
       "      <td>27.660000</td>\n",
       "      <td>46.349998</td>\n",
       "    </tr>\n",
       "    <tr>\n",
       "      <th>2016-06-03</th>\n",
       "      <td>20.065001</td>\n",
       "      <td>NaN</td>\n",
       "      <td>NaN</td>\n",
       "      <td>NaN</td>\n",
       "      <td>NaN</td>\n",
       "      <td>NaN</td>\n",
       "      <td>16.930000</td>\n",
       "      <td>27.754999</td>\n",
       "      <td>NaN</td>\n",
       "      <td>27.947500</td>\n",
       "      <td>27.430000</td>\n",
       "      <td>46.174999</td>\n",
       "    </tr>\n",
       "    <tr>\n",
       "      <th>2016-06-06</th>\n",
       "      <td>20.275000</td>\n",
       "      <td>21.642500</td>\n",
       "      <td>NaN</td>\n",
       "      <td>NaN</td>\n",
       "      <td>NaN</td>\n",
       "      <td>NaN</td>\n",
       "      <td>17.240000</td>\n",
       "      <td>27.980000</td>\n",
       "      <td>NaN</td>\n",
       "      <td>28.290001</td>\n",
       "      <td>27.780001</td>\n",
       "      <td>46.820000</td>\n",
       "    </tr>\n",
       "    <tr>\n",
       "      <th>...</th>\n",
       "      <td>...</td>\n",
       "      <td>...</td>\n",
       "      <td>...</td>\n",
       "      <td>...</td>\n",
       "      <td>...</td>\n",
       "      <td>...</td>\n",
       "      <td>...</td>\n",
       "      <td>...</td>\n",
       "      <td>...</td>\n",
       "      <td>...</td>\n",
       "      <td>...</td>\n",
       "      <td>...</td>\n",
       "    </tr>\n",
       "    <tr>\n",
       "      <th>2021-05-24</th>\n",
       "      <td>NaN</td>\n",
       "      <td>NaN</td>\n",
       "      <td>NaN</td>\n",
       "      <td>NaN</td>\n",
       "      <td>NaN</td>\n",
       "      <td>NaN</td>\n",
       "      <td>NaN</td>\n",
       "      <td>35.404999</td>\n",
       "      <td>NaN</td>\n",
       "      <td>31.264999</td>\n",
       "      <td>NaN</td>\n",
       "      <td>NaN</td>\n",
       "    </tr>\n",
       "    <tr>\n",
       "      <th>2021-05-25</th>\n",
       "      <td>NaN</td>\n",
       "      <td>NaN</td>\n",
       "      <td>NaN</td>\n",
       "      <td>NaN</td>\n",
       "      <td>NaN</td>\n",
       "      <td>NaN</td>\n",
       "      <td>NaN</td>\n",
       "      <td>35.267502</td>\n",
       "      <td>NaN</td>\n",
       "      <td>31.180000</td>\n",
       "      <td>NaN</td>\n",
       "      <td>NaN</td>\n",
       "    </tr>\n",
       "    <tr>\n",
       "      <th>2021-05-26</th>\n",
       "      <td>NaN</td>\n",
       "      <td>NaN</td>\n",
       "      <td>NaN</td>\n",
       "      <td>NaN</td>\n",
       "      <td>NaN</td>\n",
       "      <td>NaN</td>\n",
       "      <td>NaN</td>\n",
       "      <td>35.514999</td>\n",
       "      <td>NaN</td>\n",
       "      <td>31.165001</td>\n",
       "      <td>NaN</td>\n",
       "      <td>NaN</td>\n",
       "    </tr>\n",
       "    <tr>\n",
       "      <th>2021-05-27</th>\n",
       "      <td>NaN</td>\n",
       "      <td>NaN</td>\n",
       "      <td>NaN</td>\n",
       "      <td>NaN</td>\n",
       "      <td>NaN</td>\n",
       "      <td>NaN</td>\n",
       "      <td>NaN</td>\n",
       "      <td>35.645000</td>\n",
       "      <td>NaN</td>\n",
       "      <td>31.155001</td>\n",
       "      <td>NaN</td>\n",
       "      <td>NaN</td>\n",
       "    </tr>\n",
       "    <tr>\n",
       "      <th>2021-05-28</th>\n",
       "      <td>30.860001</td>\n",
       "      <td>30.155001</td>\n",
       "      <td>62.02</td>\n",
       "      <td>51.299999</td>\n",
       "      <td>24.3543</td>\n",
       "      <td>45.474998</td>\n",
       "      <td>25.629999</td>\n",
       "      <td>35.720001</td>\n",
       "      <td>74.07</td>\n",
       "      <td>31.240000</td>\n",
       "      <td>56.560001</td>\n",
       "      <td>83.050003</td>\n",
       "    </tr>\n",
       "  </tbody>\n",
       "</table>\n",
       "<p>1265 rows × 12 columns</p>\n",
       "</div>"
      ],
      "text/plain": [
       "               VERX.L     VEUR.L  VEVE.L     VFEM.L   VGER.L     VHYL.L  \\\n",
       "Date                                                                      \n",
       "2016-05-31  19.924999  21.365000     NaN        NaN      NaN        NaN   \n",
       "2016-06-01  20.102501  21.395000     NaN        NaN      NaN        NaN   \n",
       "2016-06-02  20.077499  21.400000     NaN        NaN      NaN        NaN   \n",
       "2016-06-03  20.065001        NaN     NaN        NaN      NaN        NaN   \n",
       "2016-06-06  20.275000  21.642500     NaN        NaN      NaN        NaN   \n",
       "...               ...        ...     ...        ...      ...        ...   \n",
       "2021-05-24        NaN        NaN     NaN        NaN      NaN        NaN   \n",
       "2021-05-25        NaN        NaN     NaN        NaN      NaN        NaN   \n",
       "2021-05-26        NaN        NaN     NaN        NaN      NaN        NaN   \n",
       "2021-05-27        NaN        NaN     NaN        NaN      NaN        NaN   \n",
       "2021-05-28  30.860001  30.155001   62.02  51.299999  24.3543  45.474998   \n",
       "\n",
       "               VJPN.L     VMID.L  VNRT.L     VUKE.L     VUSA.L     VWRL.L  \n",
       "Date                                                                       \n",
       "2016-05-31  17.070000  27.955000     NaN  28.027500  27.450001  46.044998  \n",
       "2016-06-01  17.170000  27.740000     NaN  27.850000  27.700001  46.384998  \n",
       "2016-06-02  16.990000  27.775000     NaN  27.840000  27.660000  46.349998  \n",
       "2016-06-03  16.930000  27.754999     NaN  27.947500  27.430000  46.174999  \n",
       "2016-06-06  17.240000  27.980000     NaN  28.290001  27.780001  46.820000  \n",
       "...               ...        ...     ...        ...        ...        ...  \n",
       "2021-05-24        NaN  35.404999     NaN  31.264999        NaN        NaN  \n",
       "2021-05-25        NaN  35.267502     NaN  31.180000        NaN        NaN  \n",
       "2021-05-26        NaN  35.514999     NaN  31.165001        NaN        NaN  \n",
       "2021-05-27        NaN  35.645000     NaN  31.155001        NaN        NaN  \n",
       "2021-05-28  25.629999  35.720001   74.07  31.240000  56.560001  83.050003  \n",
       "\n",
       "[1265 rows x 12 columns]"
      ]
     },
     "execution_count": 14,
     "metadata": {},
     "output_type": "execute_result"
    }
   ],
   "source": [
    "stock_prices"
   ]
  },
  {
   "cell_type": "code",
   "execution_count": 116,
   "metadata": {},
   "outputs": [],
   "source": [
    "n_days = 4000\n",
    "n_stocks = 2000"
   ]
  },
  {
   "cell_type": "code",
   "execution_count": 117,
   "metadata": {},
   "outputs": [
    {
     "name": "stdout",
     "output_type": "stream",
     "text": [
      "returns.shape=(2000, 4000)\n"
     ]
    }
   ],
   "source": [
    "# Simulate daily returns for all stocks over the course of our observation period.\n",
    "\n",
    "\n",
    "mu = 0.001\n",
    "sigma = 0.1\n",
    "\n",
    "np.random.seed(0)\n",
    "returns = returns = np.random.normal(mu, sigma, (n_stocks, n_days))\n",
    "print(f'returns.shape={returns.shape}')\n",
    "\n",
    "market_caps = np.random.uniform(10000,1000000, n_stocks)\n"
   ]
  },
  {
   "cell_type": "code",
   "execution_count": 118,
   "metadata": {},
   "outputs": [
    {
     "name": "stdout",
     "output_type": "stream",
     "text": [
      "market_cap_series.shape=(2000, 4000)\n",
      "weights.shape=(2000, 4000)\n",
      "weights_returns.shape=(2000, 4000)\n",
      "market_return.shape=(4000,)\n"
     ]
    }
   ],
   "source": [
    "# Calculate the market portfolio return series.\n",
    "\n",
    "cumulative_return = np.array([np.cumsum(1+returns[i]) for i in range(n_stocks)])\n",
    "\n",
    "# market portfolio returns\n",
    "market_cap_series = np.array([cumulative_return[i]*market_caps[i] for i in range(n_stocks)])\n",
    "\n",
    "print(f'market_cap_series.shape={market_cap_series.shape}')\n",
    "\n",
    "weights = np.array([market_cap_series[i]/sum(market_cap_series[i]) for i in range(n_stocks)])\n",
    "\n",
    "print(f'weights.shape={weights.shape}')\n",
    "\n",
    "weights_returns = weights*returns\n",
    "\n",
    "print(f'weights_returns.shape={weights_returns.shape}')\n",
    "\n",
    "market_return = np.array([sum(weights_returns[j][i] for j in range(n_stocks)) for i in range(n_days)])\n",
    "\n",
    "print(f'market_return.shape={market_return.shape}')\n"
   ]
  },
  {
   "cell_type": "code",
   "execution_count": 119,
   "metadata": {},
   "outputs": [],
   "source": [
    "# conduct CAPM analysis for each stock and record the beta.\n",
    "\n",
    "from sklearn.linear_model import LinearRegression\n",
    "\n",
    "betas = []\n",
    "\n",
    "for i in range(n_stocks):\n",
    "    regressinoModel = LinearRegression(fit_intercept=True, normalize=True, copy_X=True, n_jobs=3)\n",
    "    y = returns[:][i]\n",
    "    x = market_return.reshape(-1,1)\n",
    "    regressinoModel.fit(x,y)\n",
    "    # intercept, beta, index \n",
    "    betas.append((regressinoModel.intercept_,regressinoModel.coef_[0], i))\n",
    "\n"
   ]
  },
  {
   "cell_type": "code",
   "execution_count": 120,
   "metadata": {},
   "outputs": [
    {
     "name": "stdout",
     "output_type": "stream",
     "text": [
      "(999, 4000)\n"
     ]
    }
   ],
   "source": [
    "# Sort the betas\n",
    "betas.sort(key=lambda it: it[1])\n",
    "\n",
    "\n",
    "# split into low and high sets of beta\n",
    "lowBeta = betas[0:int(n_stocks/2)-1]\n",
    "highBeta = betas[int(n_stocks/2):n_stocks-1]\n",
    "\n",
    "# subset the returns matrix into high and low beta stocks.\n",
    "lowBetaReturns = np.array([returns[j[2]] for j in lowBeta])\n",
    "highBetaReturns = np.array([returns[j[2]] for j in highBeta])\n",
    "print(lowBetaReturns.shape)\n",
    "\n",
    "# equally weight each asset and compute the portfolio returns\n",
    "lowReturns = np.array([sum(1/1000*lowBetaReturns[...,i]) for i in range(n_days)])\n",
    "highReturns = np.array([sum(1/1000*highBetaReturns[...,i]) for i in range(n_days)])\n"
   ]
  },
  {
   "cell_type": "code",
   "execution_count": 121,
   "metadata": {},
   "outputs": [
    {
     "name": "stdout",
     "output_type": "stream",
     "text": [
      "=== Simple average ===\n",
      "Average low beta 0.47719899771339097\n",
      "Average high beta 2.352618635317163\n",
      "=== CAPM ===\n",
      "LowBeta: [0.477199], Alpha: 0.0007966835240032775\n",
      "HighBeta: [2.35261864], Alpha: -0.00023124997014601864\n",
      "\n",
      "For every dollar invested in lowBeta, we will leverage by 2.095561819684724\n",
      "For every dollar in highBeta, we will delveraged by, 0.4250582669830744\n"
     ]
    }
   ],
   "source": [
    "# Calculate the H and L portfolio betas\n",
    "\n",
    "lowRetModel = LinearRegression(fit_intercept=True, normalize=True, copy_X=True, n_jobs=3)\n",
    "lowRetModel.fit(y=lowReturns, X=market_return.reshape(-1,1))\n",
    "\n",
    "highRetModel = LinearRegression(fit_intercept=True, normalize=True, copy_X=True, n_jobs=3)\n",
    "highRetModel.fit(y=highReturns, X=market_return.reshape(-1,1))\n",
    "\n",
    "\n",
    "# show that they are equal to the average beta in the simple case.\n",
    "print(f'=== Simple average ===')\n",
    "print(f'Average low beta {sum([stat[1] for stat in lowBeta])/1000}')\n",
    "print(f'Average high beta {sum([stat[1] for stat in highBeta])/1000}')\n",
    "print(f'=== CAPM ===')\n",
    "print(f'LowBeta: {lowRetModel.coef_}, Alpha: {lowRetModel.intercept_}')\n",
    "print(f'HighBeta: {highRetModel.coef_}, Alpha: {highRetModel.intercept_}')\n",
    "\n",
    "lowBetaVal = lowRetModel.coef_[0]\n",
    "highBetaVal = highRetModel.coef_[0]\n",
    "\n",
    "scalarLow = 1/lowBetaVal\n",
    "scalarHigh = 1/highBetaVal\n",
    "print('')\n",
    "\n",
    "print(f'For every dollar invested in lowBeta, we will leverage by {scalarLow}')\n",
    "print(f'For every dollar in highBeta, we will delveraged by, {scalarHigh}')\n",
    "\n",
    "bab_portfolio = (scalarLow * lowReturns) - (scalarHigh * highReturns)\n"
   ]
  },
  {
   "cell_type": "code",
   "execution_count": 122,
   "metadata": {},
   "outputs": [
    {
     "data": {
      "text/plain": [
       "<matplotlib.legend.Legend at 0x7f46891fdba8>"
      ]
     },
     "execution_count": 122,
     "metadata": {},
     "output_type": "execute_result"
    },
    {
     "data": {
      "image/png": "[encoded data removed]",
      "text/plain": [
       "<Figure size 432x288 with 1 Axes>"
      ]
     },
     "metadata": {
      "needs_background": "light"
     },
     "output_type": "display_data"
    }
   ],
   "source": [
    "plt.plot(np.cumprod(1+bab_portfolio), label='BAB Portfolio')\n",
    "plt.plot(np.cumprod(1+market_return), label='Market Portfolio')\n",
    "plt.legend()"
   ]
  },
  {
   "cell_type": "code",
   "execution_count": 124,
   "metadata": {},
   "outputs": [
    {
     "name": "stdout",
     "output_type": "stream",
     "text": [
      "Beta coefficient: 5.830234509233627e-16 ~= 0\n",
      "Intercept (Alpha): 0.0017677942868233013\n"
     ]
    }
   ],
   "source": [
    "regressionModel = LinearRegression(fit_intercept=True, normalize=True, copy_X=True, n_jobs=3)\n",
    "regressionModel.fit(y=bab_portfolio, X=market_return.reshape(-1,1))\n",
    "\n",
    "print(f'Beta coefficient: {regressionModel.coef_[0]} ~= 0')\n",
    "print(f'Intercept (Alpha): {regressionModel.intercept_}')"
   ]
  }
 ],
 "metadata": {
  "kernelspec": {
   "display_name": "Python 3",
   "language": "python",
   "name": "python3"
  },
  "language_info": {
   "codemirror_mode": {
    "name": "ipython",
    "version": 3
   },
   "file_extension": ".py",
   "mimetype": "text/x-python",
   "name": "python",
   "nbconvert_exporter": "python",
   "pygments_lexer": "ipython3",
   "version": "3.6.9"
  }
 },
 "nbformat": 4,
 "nbformat_minor": 2
}
