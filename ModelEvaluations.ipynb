{
 "cells": [
  {
   "cell_type": "code",
   "execution_count": 2,
   "metadata": {},
   "outputs": [
    {
     "data": {
      "text/plain": [
       "level_0\n",
       "2021-02-01   -0.002258\n",
       "2021-02-02   -0.000522\n",
       "2021-02-03   -0.001219\n",
       "2021-02-04    0.004010\n",
       "2021-02-05    0.002431\n",
       "2021-02-08   -0.001213\n",
       "2021-02-09    0.000694\n",
       "2021-02-10    0.008667\n",
       "2021-02-11    0.025090\n",
       "2021-02-12   -0.001174\n",
       "2021-02-15   -0.005874\n",
       "2021-02-16   -0.011481\n",
       "2021-02-17    0.001708\n",
       "2021-02-18   -0.002899\n",
       "2021-02-19    0.002565\n",
       "2021-02-22    0.004264\n",
       "2021-02-23    0.000170\n",
       "2021-02-24   -0.025641\n",
       "2021-02-25    0.015598\n",
       "2021-02-26    0.004891\n",
       "2021-03-01    0.009392\n",
       "2021-03-02   -0.000338\n",
       "2021-03-03   -0.004654\n",
       "2021-03-04    0.013347\n",
       "2021-03-05    0.002852\n",
       "2021-03-08   -0.001171\n",
       "Name: index, dtype: float64"
      ]
     },
     "execution_count": 2,
     "metadata": {},
     "output_type": "execute_result"
    }
   ],
   "source": [
    "# load data\n",
    "import sqlite3\n",
    "import pandas as pd\n",
    "from datetime import datetime\n",
    "\n",
    "con = sqlite3.connect('./example.db')\n",
    "\n",
    "ftse_prediction = pd.read_sql('select * from ftse_prediction', con)\n",
    "test_cols = list(filter(lambda col: col not in ['level_0', 'index', 'target'] ,ftse_prediction.columns))\n",
    "\n",
    "\n",
    "ftse_prediction.index = pd.to_datetime(ftse_prediction['level_0'])\n",
    "ftse_prediction = ftse_prediction[['target', 'index'] + test_cols]\n",
    "\n",
    "train_end = pd.to_datetime('31/01/2021')\n",
    "\n",
    "test_mask = lambda s: (s.index > train_end) & (s.index <= datetime.now())\n",
    "\n",
    "ftse_prediction = ftse_prediction[test_mask(ftse_prediction)]\n",
    "X_test = ftse_prediction[test_cols]\n",
    "y_test = ftse_prediction['index']\n",
    "y_test"
   ]
  },
  {
   "cell_type": "code",
   "execution_count": 7,
   "metadata": {},
   "outputs": [
    {
     "data": {
      "text/plain": [
       "-0.17522949674463373"
      ]
     },
     "execution_count": 7,
     "metadata": {},
     "output_type": "execute_result"
    }
   ],
   "source": [
    "# load model\n",
    "import pickle\n",
    "from sklearn.\n",
    "\n",
    "gb_mdl = pickle.loads(open('./lib/models/ftse_prediction_model_1.pickle', 'rb').read())\n",
    "\n",
    "gb_mdl.score(X_test, y_test)"
   ]
  },
  {
   "cell_type": "code",
   "execution_count": 6,
   "metadata": {},
   "outputs": [
    {
     "data": {
      "text/html": [
       "<div>\n",
       "<style scoped>\n",
       "    .dataframe tbody tr th:only-of-type {\n",
       "        vertical-align: middle;\n",
       "    }\n",
       "\n",
       "    .dataframe tbody tr th {\n",
       "        vertical-align: top;\n",
       "    }\n",
       "\n",
       "    .dataframe thead th {\n",
       "        text-align: right;\n",
       "    }\n",
       "</style>\n",
       "<table border=\"1\" class=\"dataframe\">\n",
       "  <thead>\n",
       "    <tr style=\"text-align: right;\">\n",
       "      <th></th>\n",
       "      <th>0</th>\n",
       "      <th>1</th>\n",
       "      <th>2</th>\n",
       "      <th>3</th>\n",
       "      <th>4</th>\n",
       "      <th>5</th>\n",
       "      <th>6</th>\n",
       "      <th>7</th>\n",
       "      <th>8</th>\n",
       "      <th>9</th>\n",
       "      <th>...</th>\n",
       "      <th>16</th>\n",
       "      <th>17</th>\n",
       "      <th>18</th>\n",
       "      <th>19</th>\n",
       "      <th>20</th>\n",
       "      <th>21</th>\n",
       "      <th>22</th>\n",
       "      <th>23</th>\n",
       "      <th>24</th>\n",
       "      <th>25</th>\n",
       "    </tr>\n",
       "  </thead>\n",
       "  <tbody>\n",
       "    <tr>\n",
       "      <th>0</th>\n",
       "      <td>-0.002262</td>\n",
       "      <td>0.002392</td>\n",
       "      <td>-0.003386</td>\n",
       "      <td>0.001724</td>\n",
       "      <td>-0.003630</td>\n",
       "      <td>0.003378</td>\n",
       "      <td>-0.002003</td>\n",
       "      <td>-0.001550</td>\n",
       "      <td>-0.000825</td>\n",
       "      <td>-0.000465</td>\n",
       "      <td>...</td>\n",
       "      <td>-0.004268</td>\n",
       "      <td>0.004552</td>\n",
       "      <td>-0.001434</td>\n",
       "      <td>0.000010</td>\n",
       "      <td>0.004935</td>\n",
       "      <td>-0.000665</td>\n",
       "      <td>-0.004234</td>\n",
       "      <td>0.000828</td>\n",
       "      <td>0.000280</td>\n",
       "      <td>-0.003801</td>\n",
       "    </tr>\n",
       "    <tr>\n",
       "      <th>1</th>\n",
       "      <td>-0.002258</td>\n",
       "      <td>-0.000522</td>\n",
       "      <td>-0.001219</td>\n",
       "      <td>0.004010</td>\n",
       "      <td>0.002431</td>\n",
       "      <td>-0.001213</td>\n",
       "      <td>0.000694</td>\n",
       "      <td>0.008667</td>\n",
       "      <td>0.025090</td>\n",
       "      <td>-0.001174</td>\n",
       "      <td>...</td>\n",
       "      <td>0.000170</td>\n",
       "      <td>-0.025641</td>\n",
       "      <td>0.015598</td>\n",
       "      <td>0.004891</td>\n",
       "      <td>0.009392</td>\n",
       "      <td>-0.000338</td>\n",
       "      <td>-0.004654</td>\n",
       "      <td>0.013347</td>\n",
       "      <td>0.002852</td>\n",
       "      <td>-0.001171</td>\n",
       "    </tr>\n",
       "  </tbody>\n",
       "</table>\n",
       "<p>2 rows × 26 columns</p>\n",
       "</div>"
      ],
      "text/plain": [
       "         0         1         2         3         4         5         6   \\\n",
       "0 -0.002262  0.002392 -0.003386  0.001724 -0.003630  0.003378 -0.002003   \n",
       "1 -0.002258 -0.000522 -0.001219  0.004010  0.002431 -0.001213  0.000694   \n",
       "\n",
       "         7         8         9   ...        16        17        18        19  \\\n",
       "0 -0.001550 -0.000825 -0.000465  ... -0.004268  0.004552 -0.001434  0.000010   \n",
       "1  0.008667  0.025090 -0.001174  ...  0.000170 -0.025641  0.015598  0.004891   \n",
       "\n",
       "         20        21        22        23        24        25  \n",
       "0  0.004935 -0.000665 -0.004234  0.000828  0.000280 -0.003801  \n",
       "1  0.009392 -0.000338 -0.004654  0.013347  0.002852 -0.001171  \n",
       "\n",
       "[2 rows x 26 columns]"
      ]
     },
     "execution_count": 6,
     "metadata": {},
     "output_type": "execute_result"
    }
   ],
   "source": [
    "pd.DataFrame([gb_mdl.predict(X_test), y_test])"
   ]
  }
 ],
 "metadata": {
  "kernelspec": {
   "display_name": "Python 3",
   "language": "python",
   "name": "python3"
  },
  "language_info": {
   "codemirror_mode": {
    "name": "ipython",
    "version": 3
   },
   "file_extension": ".py",
   "mimetype": "text/x-python",
   "name": "python",
   "nbconvert_exporter": "python",
   "pygments_lexer": "ipython3",
   "version": "3.6.9"
  }
 },
 "nbformat": 4,
 "nbformat_minor": 2
}
