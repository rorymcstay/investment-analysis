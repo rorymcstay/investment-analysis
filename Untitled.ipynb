{
 "cells": [
  {
   "cell_type": "code",
   "execution_count": null,
   "metadata": {},
   "outputs": [],
   "source": [
    "import yfinance as yf\n",
    "import numpy as np\n",
    "import pandas as pd\n",
    "import seaborn as sns\n",
    "from datetime import datetime\n",
    "from sklearn import preprocessing\n",
    "#from lib.utils import split_test_train\n",
    "\n",
    "import requests as r\n"
   ]
  },
  {
   "cell_type": "code",
   "execution_count": null,
   "metadata": {},
   "outputs": [],
   "source": [
    "df[df.index == datetime(day=28, month=5,year=2021)]"
   ]
  },
  {
   "cell_type": "code",
   "execution_count": null,
   "metadata": {},
   "outputs": [],
   "source": [
    "trades = [{\n",
    "    'no_shares': 168.0000,\n",
    "    'buy_price': 29.63,\n",
    "    'ticker': 'VUKE.L',\n",
    "    'date': datetime(month=3, day=2, year=2021)\n",
    "},\n",
    "{\n",
    "    'no_shares': 58,\n",
    "    'buy_price': 34.01,\n",
    "    'ticker': 'VMID.L',\n",
    "    'date': datetime(month=3, day=2, year=2021)\n",
    "}\n",
    ",{\n",
    "    'no_shares': 1,\n",
    "    'buy_price': 57.03,\n",
    "    'ticker': 'VUSA.L',\n",
    "    'date':datetime(day=14, month=4, year=2021)\n",
    "}\n",
    ",{\n",
    "    'no_shares': 9,\n",
    "    'buy_price': 57.03,\n",
    "    'ticker': 'VUSA.L',\n",
    "    'date':datetime(day=15,month=4,year=2021)\n",
    "}\n",
    ",{\n",
    "    'no_shares': 10,\n",
    "    'buy_price': 57.49,\n",
    "    'ticker': 'VUSA.L',\n",
    "    'date':datetime(day=16,month=4,year=2021)\n",
    "}\n",
    ",{\n",
    "    'no_shares': 14,\n",
    "    'buy_price': 491.60/14.0,\n",
    "    'ticker': 'VMID.L',\n",
    "    'date': datetime(day=20, month=5, year=2021)\n",
    "}\n",
    ",{\n",
    "    'no_shares': 16,\n",
    "    'buy_price': 495.43/16.0,\n",
    "    'ticker': 'VUKE.L',\n",
    "    'date': datetime(day=20, month=5, year=2021)\n",
    "},\n",
    "{\n",
    "    'no_shares': 39,\n",
    "    'buy_price': 995.90/39,\n",
    "    'ticker': 'VJPN.L',\n",
    "    'date':datetime(day=25, month=5,year=2021)\n",
    "},\n",
    "{\n",
    "    'no_shares': 1,\n",
    "    'buy_price': 25.495/1,\n",
    "    'ticker': 'VJPN.L',\n",
    "    'date':datetime(day=25, month=5,year=2021)\n",
    "}\n",
    "]\n",
    "\n",
    "\n",
    "def print_trade_returns(trade, priceType='regularMarketPrice'):\n",
    "    stock = yf.Ticker(trade.get('ticker'))\n",
    "    price = stock.get_info()\n",
    "    price = float(price.get(priceType))\n",
    "    value = price * trade.get('no_shares')\n",
    "    returns = (price - trade.get('buy_price'))/price\n",
    "    print(f'{trade.get(\"ticker\")} value: {value}, return: {returns*100}% cost={trade[\"no_shares\"]*trade[\"buy_price\"]}')\n",
    "    return value\n",
    "\n",
    "pxType='previousClose'\n",
    "pxType='regularMarketPrice'\n",
    "nav = 8.57\n",
    "for trade in trades:\n",
    "    nav += print_trade_returns(trade, pxType)\n",
    "print(nav)\n"
   ]
  },
  {
   "cell_type": "code",
   "execution_count": null,
   "metadata": {},
   "outputs": [],
   "source": [
    "tickers = yf.Tickers(['VUKE.L'])"
   ]
  },
  {
   "cell_type": "code",
   "execution_count": null,
   "metadata": {},
   "outputs": [],
   "source": [
    "stock_list = {\n",
    "    'VUKE.L': 'FTSE 100',\n",
    "    'VMID.L': 'FTSE 250',\n",
    "    'VUSA.L': 'S&P 500',\n",
    "    'VERX.L': 'DEVELOPED EUROPE EX UK',\n",
    "    'VGER.L': 'GERMANY ALL CAP',\n",
    "    'VWRL.L': 'FTSE ALL WORLD',\n",
    "    'VHYL.L': 'WORLD HIGH DIVIDEND YIELD',\n",
    "    'VEVE.L': 'DEVELOPED WORLD',\n",
    "    'VJPN.L': 'FTSE JAPAN',\n",
    "    'VAPX.L': 'ASIA EX JAPAN',\n",
    "    'VNRT.L': 'FTSE NORTH AMERICA',\n",
    "    'VFEM.L': 'EMERGING MARKETS',\n",
    "    'VECP.L': 'fi',\n",
    "    'VETY.L': 'fi',\n",
    "    'VAGP.L': 'fi',\n",
    "    'VGOV.L': 'fi',\n",
    "    'VUCP.L': 'fi',\n",
    "    'VUTY.L': 'fi',\n",
    "    'VEMT.L': 'fi'\n",
    "}\n",
    "#stock_list = ['VUKE.L', 'VMID.L', 'VUSA.L', 'VERX.L', 'VEUR.L', 'VGER.L', 'V3AM.L', 'VWRL.L', 'VEVE.L', 'VJPN.L','VAPX.L', 'VNRT.L', 'VFEM.L']\n",
    "fixed_income = []"
   ]
  },
  {
   "cell_type": "code",
   "execution_count": null,
   "metadata": {},
   "outputs": [],
   "source": [
    "yf.Ticker('VUKE.L').history('5y')"
   ]
  },
  {
   "cell_type": "code",
   "execution_count": null,
   "metadata": {},
   "outputs": [],
   "source": [
    "stocks = yf.Tickers(list(stock_list.keys()))\n",
    "stock_prices = stocks.history('5y')['Close']\n",
    "#vuke = vuke.history('5y')"
   ]
  },
  {
   "cell_type": "code",
   "execution_count": null,
   "metadata": {},
   "outputs": [],
   "source": [
    "df = stock_prices[list(filter(lambda col: len(stock_prices[stock_prices[col].notna()]) > 1000, stock_prices.columns))].dropna()"
   ]
  },
  {
   "cell_type": "code",
   "execution_count": null,
   "metadata": {},
   "outputs": [],
   "source": [
    "hist = stocks.tickers['VUKE.L'].history('5y')"
   ]
  },
  {
   "cell_type": "code",
   "execution_count": null,
   "metadata": {},
   "outputs": [],
   "source": [
    "req = r.get('https://covid.ourworldindata.org/data/owid-covid-data.csv')\n",
    "with open('./data/covid-vaccination-data.csv', 'w') as fil: \n",
    "    fil.write(req.text)\n",
    "covid = pd.read_csv('./data/covid-vaccination-data.csv')"
   ]
  },
  {
   "cell_type": "code",
   "execution_count": null,
   "metadata": {},
   "outputs": [],
   "source": [
    "covid.date = pd.to_datetime(covid.date)\n",
    "\n",
    "covid_grouped = covid.groupby('iso_code')"
   ]
  },
  {
   "cell_type": "code",
   "execution_count": null,
   "metadata": {},
   "outputs": [],
   "source": [
    "covid = covid.set_index(pd.MultiIndex.from_frame(covid[['iso_code','date']]))"
   ]
  },
  {
   "cell_type": "code",
   "execution_count": null,
   "metadata": {},
   "outputs": [],
   "source": [
    "covid.columns"
   ]
  },
  {
   "cell_type": "code",
   "execution_count": null,
   "metadata": {},
   "outputs": [],
   "source": [
    "covid.new_cases_smoothed['JPN'].plot(label='JPN', legend=True)\n",
    "covid.new_cases_smoothed['GBR'].plot(label='GBR', legend=True)"
   ]
  },
  {
   "cell_type": "code",
   "execution_count": null,
   "metadata": {},
   "outputs": [],
   "source": [
    "#covid.reproduction_rate['IND'].plot(label='IND', legend=True)\n",
    "#covid.reproduction_rate['GBR'].plot(label='GBR', legend=True)\n",
    "#covid.new_cases_per_million['GER'].plot(label='GER', legend=True)\n",
    "#covid.new_cases_per_million['USA'].plot()\n",
    "#covid.new_cases_per_million['JPN'].plot()\n",
    "stock_prices#.join(other=covid.reproduction_rate['IND'])"
   ]
  },
  {
   "cell_type": "code",
   "execution_count": null,
   "metadata": {},
   "outputs": [],
   "source": [
    "df = stock_prices[list(filter(lambda col: len(stock_prices[stock_prices[col].notna()]) > 1000, stock_prices.columns))].dropna()\n",
    "# rebase everything to 100\n",
    "#from lib.utils import cumulative_returns, daily_returns\n",
    "\n",
    "df_subset = df.loc[df.index > datetime(year=2020, month=3, day=1)]\n",
    "\n",
    "for col in df_subset.columns:\n",
    "    ser = pd.Series(daily_returns(df_subset[col]).replace(np.inf, 0))\n",
    "    df_subset.loc[:,col] = ser\n",
    "    df_subset.loc[:,f'c_{col}'] = cumulative_returns(ser)\n",
    "\n",
    "#df_subset = df_subset.join(other=covid.reproduction_rate['GBR'])\n",
    "\n",
    "df_subset[list(filter(lambda col: 'c_' in col, df_subset.columns))].plot(figsize=(15,7))"
   ]
  },
  {
   "cell_type": "code",
   "execution_count": null,
   "metadata": {},
   "outputs": [],
   "source": [
    "sns.jointplot(data=df_subset, x=\"VJPN.L\", y=\"VEUR.L\")"
   ]
  },
  {
   "cell_type": "code",
   "execution_count": null,
   "metadata": {},
   "outputs": [],
   "source": [
    "import requests as r\n",
    "req = r.get('https://www.ft.com/search?q=FTSE100')\n"
   ]
  },
  {
   "cell_type": "code",
   "execution_count": null,
   "metadata": {},
   "outputs": [],
   "source": [
    "import lxml.etree as ET\n",
    "url = 'http://www.ft.com/search?q=FTSE100'\n",
    "\n",
    "ET.fromstring(req.text)"
   ]
  },
  {
   "cell_type": "code",
   "execution_count": null,
   "metadata": {},
   "outputs": [],
   "source": [
    "import psycopg2 as psql\n",
    "import pandas as pd\n",
    "con = psql.connect(host=\"localhost\", port='5432', user='feeds', password='feeds', database='feeds')\n",
    "\n",
    "q=\"\"\"\n",
    "SELECT * /*distinct table_name, table_schema*/\n",
    "  FROM information_schema.tables\n",
    "  where table_name like \"t_stg_ArticleSummary_results\";\n",
    "\"\"\"\n",
    "\n",
    "q=\"\"\"select * from t_stg_ArticleSummary_results;\"\"\"\n",
    "\n",
    "pd.read_sql_query(q, con)\n",
    "\n",
    "#con.cursor().execute(q)\n",
    "\n",
    "#print(psql.connect.__doc__)"
   ]
  },
  {
   "cell_type": "code",
   "execution_count": null,
   "metadata": {},
   "outputs": [],
   "source": [
    "\n",
    "\n",
    "from sklearn.linear_model import Lasso\n",
    "\n",
    "\n",
    "split_test_train(y=stock_prices['VUKE.L'],\n",
    "                 X=stock_prices[list(filter(lambda col: col != 'VUKE.L', stock_prices.columns))])\n"
   ]
  },
  {
   "cell_type": "code",
   "execution_count": null,
   "metadata": {},
   "outputs": [],
   "source": [
    "df[['VAPX.L', 'VUKE.L']]"
   ]
  },
  {
   "cell_type": "code",
   "execution_count": null,
   "metadata": {},
   "outputs": [],
   "source": [
    "from sklearn.model_selection import TimeSeriesSplit\n",
    "from sklearn.linear_model import LinearRegression\n",
    "\n",
    "tscv = TimeSeriesSplit(max_train_size=3*365, n_splits=2)\n",
    "\n",
    "features = list(filter(lambda col: 'c_' not in col and 'VUKE.L' not in col, df.columns))\n",
    "\n",
    "\n",
    "for train_index, test_index in tscv.split(stock_prices['VUKE.L']):\n",
    "    model = LinearRegression()\n",
    "    model = model.fit(y=df['VUKE.L'].values[train_index], X=df[features].values[train_index])\n",
    "    print(model)\n",
    "    print(model.score(y=df['VUKE.L'].values[test_index], X=df[features].values[test_index]))\n"
   ]
  },
  {
   "cell_type": "code",
   "execution_count": null,
   "metadata": {},
   "outputs": [],
   "source": [
    "df[['VJPN.L', 'VUKE.L', 'VMID.L']].plot()"
   ]
  },
  {
   "cell_type": "code",
   "execution_count": null,
   "metadata": {},
   "outputs": [],
   "source": [
    "import numpy as np\n",
    "import numpy as np\n",
    "import matplotlib.pyplot as plt\n",
    "import cvxopt as opt\n",
    "from cvxopt import blas, solvers\n",
    "import pandas as pd\n",
    "\n",
    "\n",
    "def optimal_portfolio(returns):\n",
    "    n = len(returns)\n",
    "    returns = np.asmatrix(returns)\n",
    "    \n",
    "    N = 100\n",
    "    mus = [10**(5.0 * t/N - 1.0) for t in range(N)]\n",
    "    \n",
    "    # Convert to cvxopt matrices\n",
    "    S = opt.matrix(np.cov(returns))\n",
    "    pbar = opt.matrix(np.mean(returns, axis=1))\n",
    "    \n",
    "    # Create constraint matrices\n",
    "    G = -opt.matrix(np.eye(n))   # negative n x n identity matrix\n",
    "    h = opt.matrix(0.0, (n ,1))\n",
    "    A = opt.matrix(1.0, (1, n))\n",
    "    b = opt.matrix(1.0)\n",
    "    \n",
    "    # Calculate efficient frontier weights using quadratic programming\n",
    "    portfolios = [solvers.qp(mu*S, -pbar, G, h, A, b)['x'] \n",
    "                  for mu in mus]\n",
    "    ## CALCULATE RISKS AND RETURNS FOR FRONTIER\n",
    "    returns = [blas.dot(pbar, x) for x in portfolios]\n",
    "    risks = [np.sqrt(blas.dot(x, S*x)) for x in portfolios]\n",
    "    ## CALCULATE THE 2ND DEGREE POLYNOMIAL OF THE FRONTIER CURVE\n",
    "    m1 = np.polyfit(returns, risks, 2)\n",
    "    x1 = np.sqrt(m1[2] / m1[0])\n",
    "    # CALCULATE THE OPTIMAL PORTFOLIO\n",
    "    wt = solvers.qp(opt.matrix(x1 * S), -pbar, G, h, A, b)['x']\n",
    "    return np.asarray(wt), returns, risks\n",
    "\n",
    "weights, returns, risks = optimal_portfolio(df)\n",
    "\n",
    "fig = plt.figure()\n",
    "plt.plot(stds, means, 'o')\n",
    "plt.ylabel('mean')\n",
    "plt.xlabel('std')\n",
    "plt.plot(risks, returns, 'y-o')\n",
    "py.iplot_mpl(fig, filename='efficient_frontier', strip_style=True)\n"
   ]
  }
 ],
 "metadata": {
  "kernelspec": {
   "display_name": "Python 3 (ipykernel)",
   "language": "python",
   "name": "python3"
  },
  "language_info": {
   "codemirror_mode": {
    "name": "ipython",
    "version": 3
   },
   "file_extension": ".py",
   "mimetype": "text/x-python",
   "name": "python",
   "nbconvert_exporter": "python",
   "pygments_lexer": "ipython3"
  }
 },
 "nbformat": 4,
 "nbformat_minor": 2
}
