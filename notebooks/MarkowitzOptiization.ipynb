{
 "cells": [
  {
   "cell_type": "code",
   "execution_count": null,
   "id": "83ee2f7d",
   "metadata": {},
   "outputs": [],
   "source": [
    "%matplotlib inline\n",
    "%load_ext zipline\n",
    "%load_ext autoreload\n",
    "%autoreload 2"
   ]
  },
  {
   "cell_type": "code",
   "execution_count": null,
   "id": "b5466281",
   "metadata": {},
   "outputs": [],
   "source": [
    "import os\n",
    "import numpy as np\n",
    "import pandas as pd\n",
    "import yfinance as yf\n",
    "import matplotlib.pyplot as plt\n",
    "import cvxopt as opt\n",
    "from cvxopt import blas, solvers\n",
    "\n",
    "import plotly\n",
    "import cufflinks\n",
    "\n",
    "# (*) To communicate with Plotly's server, sign in with credentials file\n",
    "import chart_studio.plotly as py\n",
    "\n",
    "# (*) Useful Python/Plotly tools\n",
    "import plotly.tools as tls   \n",
    "\n",
    "# (*) Graph objects to piece together plots\n",
    "from plotly.graph_objs import *\n",
    "\n",
    "from zipline import run_algorithm\n",
    "from zipline.utils.run_algo import load_extensions\n",
    "\n",
    "from investment_analysis.markowitz import strategy\n",
    "from investment_analysis.markowitz import computation\n",
    "#from investment_analysis.symbols import VANGUARD_UNIVERSE\n",
    "\n",
    "import investment_analysis\n",
    "\n",
    "import pandas_datareader.data as web\n",
    "\n",
    "load_extensions(\n",
    "    default=True,\n",
    "    extensions=[],\n",
    "    strict=True,\n",
    "    environ=os.environ,\n",
    ")\n",
    "\n",
    "cufflinks.go_offline() #will make cufflinks offline\n",
    "cufflinks.set_config_file(offline=False, world_readable=True)\n",
    "\n",
    "# Turn off progress printing \n",
    "solvers.options['show_progress'] = False\n",
    "os.environ['ZIPLINE_ROOT'] = '/home/rory/.zipline'"
   ]
  },
  {
   "cell_type": "code",
   "execution_count": null,
   "id": "ac854353",
   "metadata": {},
   "outputs": [],
   "source": [
    "yf.Ticker('VOD.L').history()"
   ]
  },
  {
   "cell_type": "code",
   "execution_count": null,
   "id": "93236774",
   "metadata": {},
   "outputs": [],
   "source": [
    "# get ohlc's\n",
    "vger = yf.Ticker('VGER.L').history('5y')\n",
    "vuke = yf.Ticker('VUKE.L').history('5y')\n",
    "vmid = yf.Ticker('VMID.L').history('5y')\n",
    "vusa = yf.Ticker('VUSA.L').history('5y')\n",
    "vjpn = yf.Ticker('VJPN.L').history('5y')\n",
    "vwrl = yf.Ticker('VWRL.L').history('5y')"
   ]
  },
  {
   "cell_type": "code",
   "execution_count": null,
   "id": "5f2be168",
   "metadata": {},
   "outputs": [],
   "source": [
    "vixm = yf.Ticker('VIXM').history('5y')\n",
    "svixm = yf.Ticker('SVXY').history('5y')\n"
   ]
  },
  {
   "cell_type": "code",
   "execution_count": null,
   "id": "25e4b866",
   "metadata": {},
   "outputs": [],
   "source": [
    "vusa.Close.pct_change()"
   ]
  },
  {
   "cell_type": "code",
   "execution_count": null,
   "id": "e37064b6",
   "metadata": {},
   "outputs": [],
   "source": [
    "returns = pd.DataFrame(list(map(\n",
    "        lambda close: close.pct_change().dropna().squeeze(), [\n",
    "            vger['Close'],\n",
    "            vuke['Close'],\n",
    "            vmid['Close'],\n",
    "            vusa['Close'],\n",
    "            vjpn['Close'],\n",
    "            vwrl['Close'],\n",
    "        ]\n",
    "    )), ).T.dropna()"
   ]
  },
  {
   "cell_type": "code",
   "execution_count": null,
   "id": "557b3b8e",
   "metadata": {},
   "outputs": [],
   "source": [
    "returns.std()"
   ]
  },
  {
   "cell_type": "code",
   "execution_count": null,
   "id": "dd774357",
   "metadata": {},
   "outputs": [],
   "source": [
    "weights, _, _ = computation.optimal_portfolio(returns.T)\n",
    "weights"
   ]
  },
  {
   "cell_type": "code",
   "execution_count": null,
   "id": "96b5c1e9",
   "metadata": {},
   "outputs": [],
   "source": [
    "from zipline.algorithm import TradingAlgorithm\n",
    "\n",
    "def analyze(context: TradingAlgorithm, perf):\n",
    "    print(context.portfolio)\n",
    "    \n",
    "    fig = plt.figure(figsize=(20,10))\n",
    "    ax1 = fig.add_subplot(211)\n",
    "    ax2 = fig.add_subplot(212)\n",
    "    bench_mark: pd.Series = context.benchmark_returns.squeeze().dropna()\n",
    "    bench_mark = context.portfolio.starting_cash*bench_mark.add(1).cumprod()\n",
    "    perf.portfolio_value.plot(ax=ax1, legend=True)\n",
    "    bench_mark.plot(ax=ax1, legend=True)\n",
    "    ax1.set_ylabel('portfolio value in $')\n",
    "    perf_trans = perf.loc[[t != [] for t in perf.transactions]]\n",
    "    buys = perf_trans.loc[[t[0]['amount'] > 0 for t in perf_trans.transactions]]\n",
    "    sells = perf_trans.loc[[t[0]['amount'] < 0 for t in perf_trans.transactions]]\n",
    "    #buys.plot(ax=ax1)\n",
    "    #sells.plot(ax=ax1)\n",
    "    ax2.set_ylabel('weights')\n",
    "    for asset in context.assets:\n",
    "        perf[asset.symbol].plot(ax=ax2)\n",
    "    plt.legend(loc=0)\n",
    "    plt.show()\n",
    "\n",
    "#analyze(Tr, perf)"
   ]
  },
  {
   "cell_type": "code",
   "execution_count": null,
   "id": "749b3cd9",
   "metadata": {},
   "outputs": [],
   "source": [
    "sp500 = web.DataReader('SP500', 'fred', start, end).SP500"
   ]
  },
  {
   "cell_type": "code",
   "execution_count": null,
   "id": "a1fa72da",
   "metadata": {},
   "outputs": [],
   "source": [
    "\n",
    "\n",
    "start = pd.Timestamp('2018-01-01')\n",
    "end = pd.Timestamp('2022-04-15')\n",
    "\n",
    "sp500 = web.DataReader('SP500', 'fred', start, end).SP500\n",
    "benchmark_returns = sp500.pct_change()\n",
    "\n",
    "\n",
    "perf: pd.DataFrame = run_algorithm(\n",
    "    start=start.tz_localize('UTC'),\n",
    "    end=end.tz_localize('UTC'),\n",
    "    initialize=strategy.initialize,\n",
    "    handle_data=strategy.handle_data,\n",
    "    benchmark_returns=benchmark_returns,\n",
    "    analyze=analyze,\n",
    "    capital_base=27000,\n",
    "    bundle='quandl',\n",
    "    data_frequency='daily'\n",
    ")\n",
    "perf.to_csv('./backtest.pickle')"
   ]
  },
  {
   "cell_type": "code",
   "execution_count": null,
   "id": "6f4b1fa1",
   "metadata": {},
   "outputs": [],
   "source": [
    "perf[['VMID.L_20_mvavg', 'VMID.L_100_mvavg']].plot()"
   ]
  },
  {
   "cell_type": "code",
   "execution_count": null,
   "id": "aae69168",
   "metadata": {},
   "outputs": [],
   "source": [
    "from zipline.data import bundles\n",
    "bundle = bundles.load('quandl')\n",
    "assets = bundle.asset_finder.retrieve_all(bundle.asset_finder.sids)"
   ]
  },
  {
   "cell_type": "code",
   "execution_count": null,
   "id": "44b575f2",
   "metadata": {},
   "outputs": [],
   "source": [
    "from zipline.pipeline import Pipeline\n",
    "from zipline.pipeline.data import USEquityPricing\n",
    "from investment_analysis.zipline_ingester import run_pipeline_against_bundle\n",
    "\n",
    "\n",
    "pipeline = Pipeline({'close': USEquityPricing.close.latest})\n",
    "out = run_pipeline_against_bundle(pipeline, '2012', '2013', bundle='quandl')\n",
    "out.unstack()"
   ]
  }
 ],
 "metadata": {
  "kernelspec": {
   "display_name": "Python 3 (ipykernel)",
   "language": "python",
   "name": "python3"
  },
  "language_info": {
   "codemirror_mode": {
    "name": "ipython",
    "version": 3
   },
   "file_extension": ".py",
   "mimetype": "text/x-python",
   "name": "python",
   "nbconvert_exporter": "python",
   "pygments_lexer": "ipython3"
  }
 },
 "nbformat": 4,
 "nbformat_minor": 5
}
