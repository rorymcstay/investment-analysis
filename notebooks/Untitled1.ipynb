{
 "cells": [
  {
   "cell_type": "code",
   "execution_count": null,
   "metadata": {},
   "outputs": [],
   "source": [
    "import pandas as pd\n",
    "from sklearn.ensemble.forest import RandomForestRegressor\n",
    "import numpy as np\n",
    "\n",
    "from datetime import datetime"
   ]
  },
  {
   "cell_type": "code",
   "execution_count": null,
   "metadata": {},
   "outputs": [],
   "source": [
    "from tick_funcs import process, tickdata_on, transformations\n",
    "\n",
    "df = process(\n",
    "    tickdata_on(day=1, month=6, year=2021),\n",
    "    tickdata_on(day=2, month=6, year=2021),\n",
    "    tickdata_on(day=3, month=6, year=2021),\n",
    "    tickdata_on(day=4, month=6, year=2021),\n",
    "    tickdata_on(day=5, month=6, year=2021),\n",
    "    tickdata_on(day=6, month=6, year=2021),\n",
    "    tickdata_on(day=7, month=6, year=2021),\n",
    "    tickdata_on(day=8, month=6, year=2021),\n",
    "    tickdata_on(day=9, month=6, year=2021),\n",
    "    tickdata_on(day=10, month=6, year=2021),\n",
    "    # enrich with features\n",
    "    **transformations\n",
    ")\n",
    "#df['timesince'] = pd.Series(pd.DatetimeIndex(df.timesince)-pd.DatetimeIndex(df.timesince.shift(1)),index=df.index).apply(lambda val: val.microseconds)\n",
    "\n",
    "df.timestamp = pd.to_datetime(df.timestamp)\n",
    "\n",
    "target = ['midPointDelta']\n",
    "ignore = ['symbol', 'timestamp']\n",
    "\n",
    "\n",
    "df.dropna(inplace=True)\n",
    "df = df[df['midPointDelta'] < 400]\n",
    "df = df[df['midPointDelta'] > -400]\n",
    "df = df[df['bidSize'] != 1]\n",
    "df = df[df['askSize'] != 1]\n",
    "\n",
    "\n",
    "#df['ts'] = pd.to_datetime(df.timestamp)\n",
    "\n",
    "df.sort_index(inplace=True)\n",
    "\n"
   ]
  },
  {
   "cell_type": "code",
   "execution_count": null,
   "metadata": {},
   "outputs": [],
   "source": [
    "tdf = pd.read_csv('/home/rory/dev/tick-capture-dev/10-6-2021/XBTUSD_tick.csv')\n",
    "#tdf.query('updateType == \"Trade\"')\n",
    "tdf"
   ]
  },
  {
   "cell_type": "code",
   "execution_count": null,
   "metadata": {},
   "outputs": [],
   "source": [
    "from datetime import timezone\n",
    "from datetime import timedelta\n",
    "df.timesince[df.index >= datetime.now(timezone.utc) - timedelta(hours=1)].plot()\n",
    "\n",
    "\n",
    "# updates in second, minute,\n",
    "df['updates_per_half_min'] = df.askPrice.rolling('30s').count()\n",
    "df"
   ]
  },
  {
   "cell_type": "code",
   "execution_count": null,
   "metadata": {},
   "outputs": [],
   "source": [
    "target = ['midPointDelta']\n",
    "ignore = ['symbol', 'timestamp']\n",
    "\n",
    "features = list(filter(lambda col: col not in target + ignore, df.columns))\n",
    "\n",
    "num_lags = 3\n",
    "\n",
    "lag_columns = []\n",
    "for name in features:\n",
    "    for i in range(1,1+num_lags):\n",
    "        if '_lag_' not in name:\n",
    "            df[f'{name}_lag_{i}'] = df[name].shift(periods=i, freq='s')\n",
    "\n",
    "\n",
    "df\n"
   ]
  },
  {
   "cell_type": "code",
   "execution_count": null,
   "metadata": {},
   "outputs": [],
   "source": [
    "df"
   ]
  },
  {
   "cell_type": "code",
   "execution_count": null,
   "metadata": {},
   "outputs": [],
   "source": [
    "df.query( f'-50 < midPointDelta < 50').midPointDelta.hist(bins=100)"
   ]
  },
  {
   "cell_type": "code",
   "execution_count": null,
   "metadata": {},
   "outputs": [],
   "source": [
    "df.bidSize.shift(freq='s', periods=)"
   ]
  },
  {
   "cell_type": "code",
   "execution_count": null,
   "metadata": {},
   "outputs": [],
   "source": [
    "X = df[features].values\n",
    "y = df[target].values"
   ]
  },
  {
   "cell_type": "code",
   "execution_count": null,
   "metadata": {},
   "outputs": [],
   "source": [
    "features"
   ]
  },
  {
   "cell_type": "code",
   "execution_count": null,
   "metadata": {},
   "outputs": [],
   "source": [
    "train_size = int(len(X) * 0.60)\n",
    "X_train, X_test = X[0:train_size], X[train_size:len(X)]\n",
    "y_train, y_test = y[0:train_size], y[train_size:len(X)]\n",
    "print('Observations: %d' % (len(X)))\n",
    "print('Training Observations: %d' % (len(X_train)))\n",
    "print('Testing Observations: %d' % (len(X_test)))"
   ]
  },
  {
   "cell_type": "code",
   "execution_count": null,
   "metadata": {},
   "outputs": [],
   "source": [
    "for num in {90, 100, 200}:\n",
    "    rf = RandomForestRegressor(n_estimators=num)\n",
    "    rf.fit(X=X_train, y=y_train)\n",
    "    score = rf.score(X_test, y_test)\n",
    "    print(f'score={score}, n_estimators={num}')"
   ]
  },
  {
   "cell_type": "code",
   "execution_count": null,
   "metadata": {},
   "outputs": [],
   "source": [
    "rf.score(X_test, y_test)"
   ]
  },
  {
   "cell_type": "code",
   "execution_count": null,
   "metadata": {},
   "outputs": [],
   "source": [
    "import matplotlib.pyplot as plt\n",
    "plt.scatter(x=rf.predict(X_test), y=y_test)"
   ]
  },
  {
   "cell_type": "code",
   "execution_count": null,
   "metadata": {},
   "outputs": [],
   "source": [
    "print(GradientBoostingRegressor.__doc__)"
   ]
  },
  {
   "cell_type": "code",
   "execution_count": null,
   "metadata": {},
   "outputs": [],
   "source": [
    "from sklearn.ensemble import GradientBoostingRegressor\n",
    "\n",
    "gbr = GradientBoostingRegressor()\n",
    "gbr.fit(X_train, y_train)\n",
    "gbr.score(X_test, y_test)"
   ]
  },
  {
   "cell_type": "code",
   "execution_count": null,
   "metadata": {},
   "outputs": [],
   "source": [
    "from sklearn.linear_model import LinearRegression\n",
    "\n",
    "lr = LinearRegression()\n"
   ]
  },
  {
   "cell_type": "code",
   "execution_count": null,
   "metadata": {},
   "outputs": [],
   "source": [
    "from sklearn.ensemble import GradientBoostingRegressor\n",
    "from sklearn.model_selection import GridSearchCV\n",
    "\n",
    "params = { \n",
    "    'n_estimators': 10000,\n",
    "    'learning_rate': 0.01,\n",
    "    'max_features': 30, \n",
    "    'max_depth': 4,\n",
    "    'random_state': 0\n",
    "}\n",
    "\n",
    "parameter_space = {\n",
    "    'learning_rate': [0.1,0.2,0.3],\n",
    "    'max_depth': [3,4,5,6,8,10],\n",
    "    'min_samples_split': [5],\n",
    "    'n_estimators': [50,60,70,80,90,100]\n",
    "}\n",
    "\n",
    "#base_estimator = GradientBoostingRegressor()\n",
    "#gb_reg.fit(X_train, y_train)\n",
    "base_learner = GradientBoostingRegressor()\n",
    "sh = GridSearchCV(base_learner, parameter_space, n_jobs=8, pre_dispatch=16)\n",
    "sh.fit(X_train, y_train)"
   ]
  },
  {
   "cell_type": "code",
   "execution_count": null,
   "metadata": {},
   "outputs": [],
   "source": [
    "\n",
    "\n",
    "\n",
    "with open('./lib/models/XBTUSD_tick.pickle', 'wb') as picklefile:\n",
    "    picklefile.write(pickle.dumps(sh))\n",
    "with open('./etc/models/XBTUSD_tick.json', 'w') as jsonfile:\n",
    "    jsonfile.write(json.dumps(parameter_space))\n",
    "\n"
   ]
  },
  {
   "cell_type": "code",
   "execution_count": null,
   "metadata": {},
   "outputs": [],
   "source": [
    "import pickle\n",
    "import json"
   ]
  },
  {
   "cell_type": "code",
   "execution_count": null,
   "metadata": {},
   "outputs": [],
   "source": [
    "params = {\n",
    "    'learning_rate': 0.1,\n",
    "    'max_depth': 6,\n",
    "    'min_samples_split': 100,\n",
    "    'n_estimators': 50\n",
    "}\n",
    "gb = GradientBoostingRegressor(**params)\n",
    "gb.fit(X_train, y_train)\n",
    "\n"
   ]
  },
  {
   "cell_type": "code",
   "execution_count": null,
   "metadata": {},
   "outputs": [],
   "source": [
    "gb.score(X_test, y_test)"
   ]
  },
  {
   "cell_type": "code",
   "execution_count": null,
   "metadata": {},
   "outputs": [],
   "source": []
  },
  {
   "cell_type": "code",
   "execution_count": null,
   "metadata": {},
   "outputs": [],
   "source": [
    "from sklearn import svm\n",
    "\n",
    "sv = svm.SVR()\n",
    "sv.fit(X_train, y_train)\n"
   ]
  },
  {
   "cell_type": "code",
   "execution_count": null,
   "metadata": {},
   "outputs": [],
   "source": []
  },
  {
   "cell_type": "code",
   "execution_count": null,
   "metadata": {},
   "outputs": [],
   "source": []
  }
 ],
 "metadata": {
  "kernelspec": {
   "display_name": "Python 3 (ipykernel)",
   "language": "python",
   "name": "python3"
  },
  "language_info": {
   "codemirror_mode": {
    "name": "ipython",
    "version": 3
   },
   "file_extension": ".py",
   "mimetype": "text/x-python",
   "name": "python",
   "nbconvert_exporter": "python",
   "pygments_lexer": "ipython3"
  }
 },
 "nbformat": 4,
 "nbformat_minor": 2
}
