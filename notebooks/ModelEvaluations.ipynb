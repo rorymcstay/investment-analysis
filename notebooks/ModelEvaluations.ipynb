{
 "cells": [
  {
   "cell_type": "code",
   "execution_count": null,
   "metadata": {},
   "outputs": [],
   "source": [
    "# load data\n",
    "import sqlite3\n",
    "import pandas as pd\n",
    "from datetime import datetime\n",
    "\n",
    "con = sqlite3.connect('./example.db')\n",
    "\n",
    "ftse_prediction = pd.read_sql('select * from ftse_prediction', con)\n",
    "test_cols = list(filter(lambda col: col not in ['level_0', 'index', 'target'] ,ftse_prediction.columns))\n",
    "\n",
    "\n",
    "ftse_prediction.index = pd.to_datetime(ftse_prediction['level_0'])\n",
    "ftse_prediction = ftse_prediction[['target', 'index'] + test_cols]\n",
    "\n",
    "train_end = pd.to_datetime('31/01/2021')\n",
    "\n",
    "test_mask = lambda s: (s.index > train_end) & (s.index <= datetime.now())\n",
    "\n",
    "ftse_prediction = ftse_prediction[test_mask(ftse_prediction)]\n",
    "X_test = ftse_prediction[test_cols]\n",
    "y_test = ftse_prediction['index']\n",
    "y_test"
   ]
  },
  {
   "cell_type": "code",
   "execution_count": null,
   "metadata": {},
   "outputs": [],
   "source": [
    "# load model\n",
    "import pickle\n",
    "from sklearn.\n",
    "\n",
    "gb_mdl = pickle.loads(open('./lib/models/ftse_prediction_model_1.pickle', 'rb').read())\n",
    "\n",
    "gb_mdl.score(X_test, y_test)"
   ]
  },
  {
   "cell_type": "code",
   "execution_count": null,
   "metadata": {},
   "outputs": [],
   "source": [
    "pd.DataFrame([gb_mdl.predict(X_test), y_test])"
   ]
  }
 ],
 "metadata": {
  "kernelspec": {
   "display_name": "Python 3",
   "language": "python",
   "name": "python3"
  },
  "language_info": {
   "codemirror_mode": {
    "name": "ipython",
    "version": 3
   },
   "file_extension": ".py",
   "mimetype": "text/x-python",
   "name": "python",
   "nbconvert_exporter": "python",
   "pygments_lexer": "ipython3"
  }
 },
 "nbformat": 4,
 "nbformat_minor": 2
}
